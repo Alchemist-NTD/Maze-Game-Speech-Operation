{
  "nbformat": 4,
  "nbformat_minor": 0,
  "metadata": {
    "colab": {
      "name": "NN_validation.ipynb",
      "provenance": [],
      "collapsed_sections": []
    },
    "kernelspec": {
      "name": "python3",
      "display_name": "Python 3"
    },
    "language_info": {
      "name": "python"
    }
  },
  "cells": [
    {
      "cell_type": "code",
      "execution_count": null,
      "metadata": {
        "colab": {
          "base_uri": "https://localhost:8080/"
        },
        "id": "8QbSIxjNn03L",
        "outputId": "df940582-e20f-4323-ec25-f28ba18d9e22"
      },
      "outputs": [
        {
          "output_type": "stream",
          "name": "stdout",
          "text": [
            "Mounted at /content/drive\n"
          ]
        }
      ],
      "source": [
        "from google.colab import drive\n",
        "drive.mount('/content/drive')"
      ]
    },
    {
      "cell_type": "code",
      "source": [
        "import librosa\n",
        "import librosa.display\n",
        "import IPython.display as ipd\n",
        "import matplotlib.pyplot as plt\n",
        "import numpy as np\n",
        "import math\n",
        "import os\n",
        "import time\n",
        "from sklearn import metrics\n",
        "from sklearn.model_selection import train_test_split\n",
        "import random\n",
        "import warnings\n",
        "!pip install ray\n",
        "import ray\n",
        "warnings.filterwarnings('ignore')\n",
        "random.seed(42)"
      ],
      "metadata": {
        "id": "6LxgBnM6obkF",
        "colab": {
          "base_uri": "https://localhost:8080/"
        },
        "outputId": "a37da5da-a2d1-4449-debe-0551cb1811d2"
      },
      "execution_count": null,
      "outputs": [
        {
          "output_type": "stream",
          "name": "stdout",
          "text": [
            "Looking in indexes: https://pypi.org/simple, https://us-python.pkg.dev/colab-wheels/public/simple/\n",
            "Requirement already satisfied: ray in /usr/local/lib/python3.7/dist-packages (1.13.0)\n",
            "Requirement already satisfied: click<=8.0.4,>=7.0 in /usr/local/lib/python3.7/dist-packages (from ray) (7.1.2)\n",
            "Requirement already satisfied: virtualenv in /usr/local/lib/python3.7/dist-packages (from ray) (20.14.1)\n",
            "Requirement already satisfied: attrs in /usr/local/lib/python3.7/dist-packages (from ray) (21.4.0)\n",
            "Requirement already satisfied: pyyaml in /usr/local/lib/python3.7/dist-packages (from ray) (3.13)\n",
            "Requirement already satisfied: filelock in /usr/local/lib/python3.7/dist-packages (from ray) (3.7.1)\n",
            "Requirement already satisfied: msgpack<2.0.0,>=1.0.0 in /usr/local/lib/python3.7/dist-packages (from ray) (1.0.4)\n",
            "Requirement already satisfied: jsonschema in /usr/local/lib/python3.7/dist-packages (from ray) (4.3.3)\n",
            "Requirement already satisfied: protobuf<4.0.0,>=3.15.3 in /usr/local/lib/python3.7/dist-packages (from ray) (3.17.3)\n",
            "Requirement already satisfied: grpcio<=1.43.0,>=1.28.1 in /usr/local/lib/python3.7/dist-packages (from ray) (1.43.0)\n",
            "Requirement already satisfied: numpy>=1.16 in /usr/local/lib/python3.7/dist-packages (from ray) (1.21.6)\n",
            "Requirement already satisfied: aiosignal in /usr/local/lib/python3.7/dist-packages (from ray) (1.2.0)\n",
            "Requirement already satisfied: frozenlist in /usr/local/lib/python3.7/dist-packages (from ray) (1.3.0)\n",
            "Requirement already satisfied: requests in /usr/local/lib/python3.7/dist-packages (from ray) (2.23.0)\n",
            "Requirement already satisfied: six>=1.5.2 in /usr/local/lib/python3.7/dist-packages (from grpcio<=1.43.0,>=1.28.1->ray) (1.15.0)\n",
            "Requirement already satisfied: importlib-metadata in /usr/local/lib/python3.7/dist-packages (from jsonschema->ray) (4.11.4)\n",
            "Requirement already satisfied: pyrsistent!=0.17.0,!=0.17.1,!=0.17.2,>=0.14.0 in /usr/local/lib/python3.7/dist-packages (from jsonschema->ray) (0.18.1)\n",
            "Requirement already satisfied: importlib-resources>=1.4.0 in /usr/local/lib/python3.7/dist-packages (from jsonschema->ray) (5.7.1)\n",
            "Requirement already satisfied: typing-extensions in /usr/local/lib/python3.7/dist-packages (from jsonschema->ray) (4.1.1)\n",
            "Requirement already satisfied: zipp>=3.1.0 in /usr/local/lib/python3.7/dist-packages (from importlib-resources>=1.4.0->jsonschema->ray) (3.8.0)\n",
            "Requirement already satisfied: urllib3!=1.25.0,!=1.25.1,<1.26,>=1.21.1 in /usr/local/lib/python3.7/dist-packages (from requests->ray) (1.24.3)\n",
            "Requirement already satisfied: idna<3,>=2.5 in /usr/local/lib/python3.7/dist-packages (from requests->ray) (2.10)\n",
            "Requirement already satisfied: chardet<4,>=3.0.2 in /usr/local/lib/python3.7/dist-packages (from requests->ray) (3.0.4)\n",
            "Requirement already satisfied: certifi>=2017.4.17 in /usr/local/lib/python3.7/dist-packages (from requests->ray) (2022.6.15)\n",
            "Requirement already satisfied: distlib<1,>=0.3.1 in /usr/local/lib/python3.7/dist-packages (from virtualenv->ray) (0.3.4)\n",
            "Requirement already satisfied: platformdirs<3,>=2 in /usr/local/lib/python3.7/dist-packages (from virtualenv->ray) (2.5.2)\n"
          ]
        }
      ]
    },
    {
      "cell_type": "markdown",
      "source": [
        "# **MFCC Extraction**"
      ],
      "metadata": {
        "id": "BTJevJRLo0KW"
      }
    },
    {
      "cell_type": "markdown",
      "source": [
        "\\begin{align} start_{frame} = \\big\\lfloor start_{time} \\times samplingrate \\big\\rfloor \\end{align}\n",
        "\n",
        "\\begin{align} end_{frame} = \\big\\lfloor end_{time} \\times samplingrate \\big\\rfloor + 1 \\end{align}"
      ],
      "metadata": {
        "id": "m49EdB15pFeA"
      }
    },
    {
      "cell_type": "markdown",
      "source": [
        "mfcc shape 39, x"
      ],
      "metadata": {
        "id": "D7PXG_YoP8gx"
      }
    },
    {
      "cell_type": "code",
      "source": [
        "def padd_z(y):\n",
        "    z_rate = 19203 - y.shape[0]\n",
        "    return np.concatenate([np.zeros((int(z_rate / 2))), y, np.zeros((int(z_rate / 2)))]) if z_rate % 2 == 0 else np.concatenate([np.zeros((int(z_rate / 2) + 1)), y, np.zeros((int(z_rate / 2)))])\n",
        "\n",
        "def mfcc_lab(path_without_ending, target_list):\n",
        "    if os.path.isfile(path_without_ending + '.wav') == False or os.path.isfile(path_without_ending + '.txt') == False:\n",
        "        return\n",
        "    signal, sr = librosa.load(path_without_ending + '.wav')\n",
        "    with open(path_without_ending + '.txt') as f:\n",
        "            for line in f:\n",
        "                if(line == ''): continue\n",
        "                gr = ''.join(line).strip().split('\\t')\n",
        "\n",
        "                if len(gr) < 3: continue\n",
        "                if gr[2] not in ['trai', 'phai', 'len', 'xuong']:   continue\n",
        "\n",
        "\n",
        "                start_frame = int(float(gr[0]) * sr)\n",
        "                end_frame = int(float(gr[1]) * sr) + 1\n",
        "                lab = gr[2]\n",
        "                # trích chọn đặc trưng trên thang mel với các thông số mặc định sampling rate = 22050, window hann, frame_size = 2048, hop_size = 512 (SFT matrix n_frame x window_length)\n",
        "                # Dựa vào biến đổi Fast Fourier Transform trên từng frame\n",
        "                # trích chọn 13 đặc trưng MFCC từ Discrete Cosine Transform với các bộ lọc tam giác nối chân nhau từ spg: ma trận sau khi short time fourier transform trên segment.\n",
        "                # đặc trưng thứ 13 là trung bình năng lượng của 12 đặc trưng\n",
        "                mfccs = librosa.feature.mfcc(y=padd_z(signal[start_frame:end_frame]), n_mfcc=13, sr=sr)\n",
        "                # CMVN\n",
        "                mfccs = mfccs - np.mean(mfccs, axis=1).reshape((-1, 1))\n",
        "                # trích chọn 13 đặc trưng tiếp theo chính là đạo hàm của 12 đặc trưng mfccs cộng thêm 1 đặc trưng là trung bình năng lượng của 12 đặc trưng đó\n",
        "                delta_mfccs = librosa.feature.delta(mfccs, order=1)\n",
        "                \n",
        "                # tương tự nhưng là đạo hàm của 12 delta_mfccs và 1 trung bình năng lượng của tầng này\n",
        "                delta2_mfccs = librosa.feature.delta(mfccs, order=2)\n",
        "                mfccs_39 = np.concatenate((mfccs, delta_mfccs, delta2_mfccs))\n",
        "                target_list.append([mfccs_39, lab])"
      ],
      "metadata": {
        "id": "p1WuU8JEo4LG"
      },
      "execution_count": null,
      "outputs": []
    },
    {
      "cell_type": "code",
      "source": [
        "# read data without Silence label\n",
        "def read_data_from_drive(data_fill):\n",
        "    path = '/content/drive/My Drive/SpeechData/'\n",
        "    for fnum in range(1, 11):\n",
        "        for i in range(1, 101):\n",
        "            mfcc_lab(path + str(fnum) + '/c' + str(i), data_fill)"
      ],
      "metadata": {
        "id": "aRqGoNI8pe2v"
      },
      "execution_count": null,
      "outputs": []
    },
    {
      "cell_type": "code",
      "source": [
        "# Segment and label list of list\n",
        "# element: [ Signal, label]\n",
        "seg_lab = []\n",
        "read_data_from_drive(seg_lab)"
      ],
      "metadata": {
        "id": "XkoxHfsbsypZ"
      },
      "execution_count": null,
      "outputs": []
    },
    {
      "cell_type": "code",
      "source": [
        "len(seg_lab)"
      ],
      "metadata": {
        "id": "xNZXCENeUR5_",
        "colab": {
          "base_uri": "https://localhost:8080/"
        },
        "outputId": "f1a27741-8096-4ce0-b59f-b0817cfa423e"
      },
      "execution_count": null,
      "outputs": [
        {
          "output_type": "execute_result",
          "data": {
            "text/plain": [
              "4811"
            ]
          },
          "metadata": {},
          "execution_count": 10
        }
      ]
    },
    {
      "cell_type": "markdown",
      "source": [
        "# **Dynamic Time Wrapping**"
      ],
      "metadata": {
        "id": "MCrIVd16ErA0"
      }
    },
    {
      "cell_type": "code",
      "source": [
        "X, y = np.array([np.reshape(seg_lab[i][0].T, (-1)) for i in range(len(seg_lab))]), np.array([0 if seg_lab[i][1]=='trai' else (1 if seg_lab[i][1] == 'phai' else (2 if seg_lab[i][1] == 'len' else 3)) for i in range(len(seg_lab)) ])"
      ],
      "metadata": {
        "id": "NPVXjbfUSVfh"
      },
      "execution_count": null,
      "outputs": []
    },
    {
      "cell_type": "code",
      "source": [
        "X_train, X_test, y_train, y_test = train_test_split(X, y, test_size = 0.25, random_state=42)"
      ],
      "metadata": {
        "id": "9XgBnJIlEqkc"
      },
      "execution_count": null,
      "outputs": []
    },
    {
      "cell_type": "code",
      "source": [
        "!pip install lightgbm\n",
        "import lightgbm as lgb"
      ],
      "metadata": {
        "id": "Bekg4dFecPOJ",
        "colab": {
          "base_uri": "https://localhost:8080/"
        },
        "outputId": "90a5f533-79a5-4ccb-c0df-e5e520f9ea54"
      },
      "execution_count": null,
      "outputs": [
        {
          "output_type": "stream",
          "name": "stdout",
          "text": [
            "Looking in indexes: https://pypi.org/simple, https://us-python.pkg.dev/colab-wheels/public/simple/\n",
            "Requirement already satisfied: lightgbm in /usr/local/lib/python3.7/dist-packages (2.2.3)\n",
            "Requirement already satisfied: scikit-learn in /usr/local/lib/python3.7/dist-packages (from lightgbm) (1.0.2)\n",
            "Requirement already satisfied: numpy in /usr/local/lib/python3.7/dist-packages (from lightgbm) (1.21.6)\n",
            "Requirement already satisfied: scipy in /usr/local/lib/python3.7/dist-packages (from lightgbm) (1.4.1)\n",
            "Requirement already satisfied: joblib>=0.11 in /usr/local/lib/python3.7/dist-packages (from scikit-learn->lightgbm) (1.1.0)\n",
            "Requirement already satisfied: threadpoolctl>=2.0.0 in /usr/local/lib/python3.7/dist-packages (from scikit-learn->lightgbm) (3.1.0)\n"
          ]
        }
      ]
    },
    {
      "cell_type": "code",
      "source": [
        "LGBM_m = lgb.LGBMClassifier()\n",
        "LGBM_m.fit(X_train, y_train)"
      ],
      "metadata": {
        "id": "9hAzAVO2qe67",
        "colab": {
          "base_uri": "https://localhost:8080/"
        },
        "outputId": "70162c23-d6c8-4c76-ad40-e6077fd666e8"
      },
      "execution_count": null,
      "outputs": [
        {
          "output_type": "execute_result",
          "data": {
            "text/plain": [
              "LGBMClassifier()"
            ]
          },
          "metadata": {},
          "execution_count": 29
        }
      ]
    },
    {
      "cell_type": "code",
      "source": [
        "print(metrics.classification_report(y_test, LGBM_m.predict(X_test)))"
      ],
      "metadata": {
        "colab": {
          "base_uri": "https://localhost:8080/"
        },
        "id": "2rT7QzI8NhoX",
        "outputId": "29b290cf-4792-4c40-ab14-3cd960ebbcae"
      },
      "execution_count": null,
      "outputs": [
        {
          "output_type": "stream",
          "name": "stdout",
          "text": [
            "              precision    recall  f1-score   support\n",
            "\n",
            "           0       0.99      0.99      0.99       331\n",
            "           1       0.98      0.99      0.98       249\n",
            "           2       1.00      1.00      1.00       300\n",
            "           3       1.00      0.99      0.99       323\n",
            "\n",
            "    accuracy                           0.99      1203\n",
            "   macro avg       0.99      0.99      0.99      1203\n",
            "weighted avg       0.99      0.99      0.99      1203\n",
            "\n"
          ]
        }
      ]
    },
    {
      "cell_type": "code",
      "source": [
        "expected, predicted = y_test, LGBM_m.predict(X_test)\n",
        "print(\"Classification report: \\n\\n%s\\n\" % (metrics.classification_report(expected, predicted)))\n",
        "mat = metrics.confusion_matrix(expected, predicted)\n",
        "# len, xuong, trai, phai\n",
        "label_names = list(set(expected))\n",
        "label_names = [x for x in label_names]\n",
        "plt.figure()\n",
        "plt.imshow(mat, interpolation='nearest', cmap='Reds')\n",
        "plt.title('normalized confussion matrix')\n",
        "plt.colorbar()\n",
        "plt.ylabel('Expected label')\n",
        "plt.xlabel('Predicted label')\n",
        "tick_marks = np.arange(len(label_names))\n",
        "plt.xticks(tick_marks, label_names, rotation=90)\n",
        "plt.yticks(tick_marks, label_names)\n",
        "plt.tight_layout()\n",
        "\n",
        "# accuracy của từng từ đơn\n",
        "accuracy = metrics.accuracy_score(expected, predicted)\n",
        "print('Accuracy classification score: {0:.2f}%'.format(100*accuracy))\n",
        "precision = metrics.precision_score(expected, predicted, average='weighted')\n",
        "print('Precision classification score: {0:.2f}%'.format(100*precision))"
      ],
      "metadata": {
        "id": "VkXLvjFzi21p",
        "colab": {
          "base_uri": "https://localhost:8080/",
          "height": 575
        },
        "outputId": "5f311629-49e5-4031-f4be-9e3da28737d3"
      },
      "execution_count": null,
      "outputs": [
        {
          "output_type": "stream",
          "name": "stdout",
          "text": [
            "Classification report: \n",
            "\n",
            "              precision    recall  f1-score   support\n",
            "\n",
            "           0       0.99      0.99      0.99       331\n",
            "           1       0.98      0.99      0.98       249\n",
            "           2       1.00      1.00      1.00       300\n",
            "           3       1.00      0.99      0.99       323\n",
            "\n",
            "    accuracy                           0.99      1203\n",
            "   macro avg       0.99      0.99      0.99      1203\n",
            "weighted avg       0.99      0.99      0.99      1203\n",
            "\n",
            "\n",
            "Accuracy classification score: 99.25%\n",
            "Precision classification score: 99.26%\n"
          ]
        },
        {
          "output_type": "display_data",
          "data": {
            "text/plain": [
              "<Figure size 432x288 with 2 Axes>"
            ],
            "image/png": "[encoded data removed]"
          },
          "metadata": {
            "needs_background": "light"
          }
        }
      ]
    },
    {
      "cell_type": "code",
      "source": [
        "!pip install tensorflow\n",
        "from tensorflow.keras.models import Sequential\n",
        "from tensorflow.keras.layers import Dense, Dropout\n",
        "from tensorflow.keras.optimizers import RMSprop, Adam\n",
        "from keras.callbacks import EarlyStopping"
      ],
      "metadata": {
        "id": "tMXrXrXKQ2nG"
      },
      "execution_count": null,
      "outputs": []
    },
    {
      "cell_type": "code",
      "source": [
        "import tensorflow as tf\n",
        "from sklearn.preprocessing import LabelEncoder\n",
        "from keras.utils import np_utils"
      ],
      "metadata": {
        "id": "LfDAC6MJUBT-"
      },
      "execution_count": null,
      "outputs": []
    },
    {
      "cell_type": "code",
      "source": [
        "NN1 = Sequential()\n",
        "NN1.add(Dense(512, activation='relu', input_shape=(X_train.shape[1],)))\n",
        "NN1.add(Dropout(0.3))\n",
        "NN1.add(Dense(256, activation='relu'))\n",
        "NN1.add(Dense(256, activation='relu'))\n",
        "NN1.add(Dropout(0.3))\n",
        "NN1.add(Dense(128, activation='relu'))\n",
        "NN1.add(Dense(4, activation='softmax'))\n",
        "NN1.compile(loss=tf.keras.losses.CategoricalCrossentropy(), optimizer=Adam(), metrics=['accuracy'])\n",
        "es = EarlyStopping(monitor='val_accuracy', \n",
        "                   mode='max', \n",
        "                   patience=10,  #Stop the model training if the validation accuracy doesnt increase in 10 Epochs\n",
        "                   restore_best_weights=True)"
      ],
      "metadata": {
        "id": "WGQoNgRiQ99l"
      },
      "execution_count": null,
      "outputs": []
    },
    {
      "cell_type": "code",
      "source": [
        "X_train, X_test, y_train, y_test = train_test_split(X, y, test_size = 0.4, random_state=42)\n",
        "X_val, X_test, y_val, y_test = train_test_split(X_test, y_test, test_size = 0.5, random_state=42)\n",
        "encoder = LabelEncoder()\n",
        "encoder.fit(y)\n",
        "# convert integers to dummy variables (i.e. one hot encoded)\n",
        "dum_y_train = np_utils.to_categorical(encoder.transform(y_train))\n",
        "dum_y_val = np_utils.to_categorical(encoder.transform(y_val))\n",
        "dum_y_test = np_utils.to_categorical(encoder.transform(y_test))"
      ],
      "metadata": {
        "id": "KzzAnZLSRsHs"
      },
      "execution_count": null,
      "outputs": []
    },
    {
      "cell_type": "code",
      "source": [
        "NN_Classifier = NN1.fit(X_train, dum_y_train, \\\n",
        "                          batch_size=32, \\\n",
        "                          epochs=100, \\\n",
        "                          callbacks =[es], \\\n",
        "                          verbose=2, \\\n",
        "                            validation_data=(X_val, dum_y_val))"
      ],
      "metadata": {
        "colab": {
          "base_uri": "https://localhost:8080/"
        },
        "id": "yoccPbMsRGW1",
        "outputId": "a0215b74-fa98-4f08-a4b0-793738410dc8"
      },
      "execution_count": null,
      "outputs": [
        {
          "output_type": "stream",
          "name": "stdout",
          "text": [
            "Epoch 1/100\n",
            "91/91 - 2s - loss: 4.0155 - accuracy: 0.7030 - val_loss: 0.3822 - val_accuracy: 0.8763 - 2s/epoch - 20ms/step\n",
            "Epoch 2/100\n",
            "91/91 - 1s - loss: 0.5306 - accuracy: 0.8749 - val_loss: 0.1518 - val_accuracy: 0.9459 - 975ms/epoch - 11ms/step\n",
            "Epoch 3/100\n",
            "91/91 - 1s - loss: 0.3179 - accuracy: 0.9023 - val_loss: 0.1422 - val_accuracy: 0.9459 - 932ms/epoch - 10ms/step\n",
            "Epoch 4/100\n",
            "91/91 - 1s - loss: 0.2240 - accuracy: 0.9366 - val_loss: 0.1051 - val_accuracy: 0.9751 - 936ms/epoch - 10ms/step\n",
            "Epoch 5/100\n",
            "91/91 - 1s - loss: 0.1744 - accuracy: 0.9473 - val_loss: 0.0894 - val_accuracy: 0.9751 - 909ms/epoch - 10ms/step\n",
            "Epoch 6/100\n",
            "91/91 - 1s - loss: 0.1552 - accuracy: 0.9543 - val_loss: 0.0838 - val_accuracy: 0.9802 - 919ms/epoch - 10ms/step\n",
            "Epoch 7/100\n",
            "91/91 - 1s - loss: 0.1905 - accuracy: 0.9387 - val_loss: 0.1012 - val_accuracy: 0.9740 - 983ms/epoch - 11ms/step\n",
            "Epoch 8/100\n",
            "91/91 - 1s - loss: 0.1275 - accuracy: 0.9608 - val_loss: 0.0749 - val_accuracy: 0.9823 - 923ms/epoch - 10ms/step\n",
            "Epoch 9/100\n",
            "91/91 - 1s - loss: 0.1327 - accuracy: 0.9608 - val_loss: 0.1082 - val_accuracy: 0.9709 - 970ms/epoch - 11ms/step\n",
            "Epoch 10/100\n",
            "91/91 - 1s - loss: 0.0944 - accuracy: 0.9719 - val_loss: 0.0599 - val_accuracy: 0.9813 - 956ms/epoch - 11ms/step\n",
            "Epoch 11/100\n",
            "91/91 - 1s - loss: 0.0971 - accuracy: 0.9712 - val_loss: 0.0749 - val_accuracy: 0.9854 - 903ms/epoch - 10ms/step\n",
            "Epoch 12/100\n",
            "91/91 - 1s - loss: 0.1004 - accuracy: 0.9685 - val_loss: 0.1319 - val_accuracy: 0.9740 - 926ms/epoch - 10ms/step\n",
            "Epoch 13/100\n",
            "91/91 - 1s - loss: 0.0940 - accuracy: 0.9723 - val_loss: 0.0826 - val_accuracy: 0.9823 - 984ms/epoch - 11ms/step\n",
            "Epoch 14/100\n",
            "91/91 - 1s - loss: 0.0576 - accuracy: 0.9809 - val_loss: 0.0765 - val_accuracy: 0.9865 - 955ms/epoch - 10ms/step\n",
            "Epoch 15/100\n",
            "91/91 - 1s - loss: 0.0614 - accuracy: 0.9823 - val_loss: 0.1018 - val_accuracy: 0.9771 - 933ms/epoch - 10ms/step\n",
            "Epoch 16/100\n",
            "91/91 - 1s - loss: 0.0764 - accuracy: 0.9775 - val_loss: 0.1019 - val_accuracy: 0.9844 - 933ms/epoch - 10ms/step\n",
            "Epoch 17/100\n",
            "91/91 - 1s - loss: 0.0928 - accuracy: 0.9751 - val_loss: 0.1057 - val_accuracy: 0.9782 - 964ms/epoch - 11ms/step\n",
            "Epoch 18/100\n",
            "91/91 - 1s - loss: 0.1080 - accuracy: 0.9692 - val_loss: 0.1115 - val_accuracy: 0.9802 - 925ms/epoch - 10ms/step\n",
            "Epoch 19/100\n",
            "91/91 - 1s - loss: 0.0789 - accuracy: 0.9768 - val_loss: 0.0873 - val_accuracy: 0.9875 - 910ms/epoch - 10ms/step\n",
            "Epoch 20/100\n",
            "91/91 - 1s - loss: 0.0698 - accuracy: 0.9806 - val_loss: 0.0774 - val_accuracy: 0.9844 - 942ms/epoch - 10ms/step\n",
            "Epoch 21/100\n",
            "91/91 - 1s - loss: 0.0893 - accuracy: 0.9730 - val_loss: 0.0823 - val_accuracy: 0.9906 - 1s/epoch - 11ms/step\n",
            "Epoch 22/100\n",
            "91/91 - 1s - loss: 0.0494 - accuracy: 0.9868 - val_loss: 0.0768 - val_accuracy: 0.9896 - 931ms/epoch - 10ms/step\n",
            "Epoch 23/100\n",
            "91/91 - 1s - loss: 0.0417 - accuracy: 0.9868 - val_loss: 0.0771 - val_accuracy: 0.9875 - 961ms/epoch - 11ms/step\n",
            "Epoch 24/100\n",
            "91/91 - 1s - loss: 0.0507 - accuracy: 0.9837 - val_loss: 0.0917 - val_accuracy: 0.9802 - 975ms/epoch - 11ms/step\n",
            "Epoch 25/100\n",
            "91/91 - 1s - loss: 0.0850 - accuracy: 0.9692 - val_loss: 0.0962 - val_accuracy: 0.9886 - 919ms/epoch - 10ms/step\n",
            "Epoch 26/100\n",
            "91/91 - 1s - loss: 0.0676 - accuracy: 0.9802 - val_loss: 0.0968 - val_accuracy: 0.9834 - 918ms/epoch - 10ms/step\n",
            "Epoch 27/100\n",
            "91/91 - 1s - loss: 0.0777 - accuracy: 0.9820 - val_loss: 0.0757 - val_accuracy: 0.9844 - 936ms/epoch - 10ms/step\n",
            "Epoch 28/100\n",
            "91/91 - 1s - loss: 0.0728 - accuracy: 0.9816 - val_loss: 0.3091 - val_accuracy: 0.9293 - 921ms/epoch - 10ms/step\n",
            "Epoch 29/100\n",
            "91/91 - 1s - loss: 0.0832 - accuracy: 0.9785 - val_loss: 0.0917 - val_accuracy: 0.9813 - 927ms/epoch - 10ms/step\n",
            "Epoch 30/100\n",
            "91/91 - 1s - loss: 0.0371 - accuracy: 0.9886 - val_loss: 0.0930 - val_accuracy: 0.9823 - 918ms/epoch - 10ms/step\n",
            "Epoch 31/100\n",
            "91/91 - 1s - loss: 0.0594 - accuracy: 0.9796 - val_loss: 0.1098 - val_accuracy: 0.9834 - 939ms/epoch - 10ms/step\n"
          ]
        }
      ]
    },
    {
      "cell_type": "code",
      "source": [
        "print('Classification Report: ', metrics.classification_report(y_test,  [np.argmax(x) for x in NN1.predict(X_test)] ))"
      ],
      "metadata": {
        "colab": {
          "base_uri": "https://localhost:8080/"
        },
        "id": "oXi9W4fWRdm9",
        "outputId": "5d6ac332-ff58-477d-9b44-b6d7fed1bd72"
      },
      "execution_count": null,
      "outputs": [
        {
          "output_type": "stream",
          "name": "stdout",
          "text": [
            "              precision    recall  f1-score   support\n",
            "\n",
            "           0       0.97      0.98      0.98       265\n",
            "           1       0.97      0.97      0.97       228\n",
            "           2       1.00      1.00      1.00       247\n",
            "           3       1.00      1.00      1.00       223\n",
            "\n",
            "    accuracy                           0.99       963\n",
            "   macro avg       0.99      0.99      0.99       963\n",
            "weighted avg       0.99      0.99      0.99       963\n",
            "\n"
          ]
        }
      ]
    },
    {
      "cell_type": "code",
      "source": [
        "NN1.save('/content/drive/My Drive/Colab Notebooks/nn_speech')"
      ],
      "metadata": {
        "colab": {
          "base_uri": "https://localhost:8080/"
        },
        "id": "jPZblDYDZtiZ",
        "outputId": "740e961e-c00c-4f10-edca-1c4743ffa2af"
      },
      "execution_count": null,
      "outputs": [
        {
          "output_type": "stream",
          "name": "stdout",
          "text": [
            "INFO:tensorflow:Assets written to: /content/drive/My Drive/Colab Notebooks/nn_speech/assets\n"
          ]
        }
      ]
    },
    {
      "cell_type": "code",
      "source": [
        "NN2 = tf.keras.models.load_model('/content/drive/My Drive/Colab Notebooks/nn_speech')"
      ],
      "metadata": {
        "id": "vZKNbngfeug1"
      },
      "execution_count": null,
      "outputs": []
    },
    {
      "cell_type": "code",
      "source": [
        "np.argmax((NN1.predict(np.reshape(X_test[38], (1, -1)))[0]))"
      ],
      "metadata": {
        "colab": {
          "base_uri": "https://localhost:8080/"
        },
        "id": "gw3bo8hmZGIv",
        "outputId": "da12d5b9-eeed-4da4-bf0e-e3350e5eeade"
      },
      "execution_count": null,
      "outputs": [
        {
          "output_type": "execute_result",
          "data": {
            "text/plain": [
              "3"
            ]
          },
          "metadata": {},
          "execution_count": 90
        }
      ]
    },
    {
      "cell_type": "code",
      "source": [
        "np.reshape(X_test[38], (1, -1)).shape"
      ],
      "metadata": {
        "id": "rPd5iRYLiPtI",
        "outputId": "a6e15c7b-9c97-4ad0-de50-23e0b408efd9",
        "colab": {
          "base_uri": "https://localhost:8080/"
        }
      },
      "execution_count": null,
      "outputs": [
        {
          "output_type": "execute_result",
          "data": {
            "text/plain": [
              "(1, 1482)"
            ]
          },
          "metadata": {},
          "execution_count": 101
        }
      ]
    },
    {
      "cell_type": "code",
      "source": [
        "print(metrics.classification_report(y_test,  [np.argmax(x) for x in NN2.predict(X_test)] ))"
      ],
      "metadata": {
        "colab": {
          "base_uri": "https://localhost:8080/"
        },
        "id": "Zxfs92Pog1-o",
        "outputId": "6ea14ff2-1c2f-4b39-c009-67c42e06dd9c"
      },
      "execution_count": null,
      "outputs": [
        {
          "output_type": "stream",
          "name": "stdout",
          "text": [
            "              precision    recall  f1-score   support\n",
            "\n",
            "           0       0.97      0.98      0.98       265\n",
            "           1       0.97      0.97      0.97       228\n",
            "           2       1.00      1.00      1.00       247\n",
            "           3       1.00      1.00      1.00       223\n",
            "\n",
            "    accuracy                           0.99       963\n",
            "   macro avg       0.99      0.99      0.99       963\n",
            "weighted avg       0.99      0.99      0.99       963\n",
            "\n"
          ]
        }
      ]
    }
  ]
}
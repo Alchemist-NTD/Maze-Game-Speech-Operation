{
  "nbformat": 4,
  "nbformat_minor": 0,
  "metadata": {
    "colab": {
      "name": "DTW_validation.ipynb",
      "provenance": [],
      "collapsed_sections": []
    },
    "kernelspec": {
      "name": "python3",
      "display_name": "Python 3"
    },
    "language_info": {
      "name": "python"
    }
  },
  "cells": [
    {
      "cell_type": "code",
      "execution_count": null,
      "metadata": {
        "colab": {
          "base_uri": "https://localhost:8080/"
        },
        "id": "8QbSIxjNn03L",
        "outputId": "4d7e627b-c6dc-48ae-e2df-6c2edcbcd573"
      },
      "outputs": [
        {
          "output_type": "stream",
          "name": "stdout",
          "text": [
            "Mounted at /content/drive\n"
          ]
        }
      ],
      "source": [
        "from google.colab import drive\n",
        "drive.mount('/content/drive')"
      ]
    },
    {
      "cell_type": "code",
      "source": [
        "import librosa\n",
        "import librosa.display\n",
        "import IPython.display as ipd\n",
        "import matplotlib.pyplot as plt\n",
        "import numpy as np\n",
        "import math\n",
        "import os\n",
        "import time\n",
        "from sklearn import metrics\n",
        "import random\n",
        "import warnings\n",
        "warnings.filterwarnings('ignore')\n",
        "!pip install dtw\n",
        "from dtw import dtw\n",
        "random.seed(42)"
      ],
      "metadata": {
        "id": "6LxgBnM6obkF",
        "colab": {
          "base_uri": "https://localhost:8080/"
        },
        "outputId": "de245c9d-7973-4e60-b2cf-b8d10f5726d4"
      },
      "execution_count": null,
      "outputs": [
        {
          "output_type": "stream",
          "name": "stdout",
          "text": [
            "Looking in indexes: https://pypi.org/simple, https://us-python.pkg.dev/colab-wheels/public/simple/\n",
            "Collecting dtw\n",
            "  Downloading dtw-1.4.0.tar.gz (4.7 kB)\n",
            "Requirement already satisfied: numpy in /usr/local/lib/python3.7/dist-packages (from dtw) (1.21.6)\n",
            "Requirement already satisfied: scipy in /usr/local/lib/python3.7/dist-packages (from dtw) (1.4.1)\n",
            "Building wheels for collected packages: dtw\n",
            "  Building wheel for dtw (setup.py) ... \u001b[?25l\u001b[?25hdone\n",
            "  Created wheel for dtw: filename=dtw-1.4.0-py3-none-any.whl size=5315 sha256=8c053c301ff542aac4b5c7ee35394c8c7edb00fa17bddc7179deb234ac2bbe93\n",
            "  Stored in directory: /root/.cache/pip/wheels/f9/51/54/b7f446e6d4f5be9a66066b59c5030731191260515737be4496\n",
            "Successfully built dtw\n",
            "Installing collected packages: dtw\n",
            "Successfully installed dtw-1.4.0\n"
          ]
        }
      ]
    },
    {
      "cell_type": "markdown",
      "source": [
        "# **MFCC Extraction**"
      ],
      "metadata": {
        "id": "BTJevJRLo0KW"
      }
    },
    {
      "cell_type": "markdown",
      "source": [
        "\\begin{align} start_{frame} = \\big\\lfloor start_{time} \\times samplingrate \\big\\rfloor \\end{align}\n",
        "\n",
        "\\begin{align} end_{frame} = \\big\\lfloor end_{time} \\times samplingrate \\big\\rfloor + 1 \\end{align}"
      ],
      "metadata": {
        "id": "m49EdB15pFeA"
      }
    },
    {
      "cell_type": "markdown",
      "source": [
        "mfcc shape 39, x"
      ],
      "metadata": {
        "id": "D7PXG_YoP8gx"
      }
    },
    {
      "cell_type": "code",
      "source": [
        "def padd_z(y):\n",
        "    z_rate = 19203 - y.shape[0]\n",
        "    return np.concatenate([np.zeros((int(z_rate / 2))), y, np.zeros((int(z_rate / 2)))]) if z_rate % 2 == 0 else np.concatenate([np.zeros((int(z_rate / 2) + 1)), y, np.zeros((int(z_rate / 2)))])\n",
        "\n",
        "def mfcc_lab(path_without_ending, target_list):\n",
        "    if os.path.isfile(path_without_ending + '.wav') == False or os.path.isfile(path_without_ending + '.txt') == False:\n",
        "        return\n",
        "    signal, sr = librosa.load(path_without_ending + '.wav')\n",
        "    with open(path_without_ending + '.txt') as f:\n",
        "            for line in f:\n",
        "                if(line == ''): continue\n",
        "                gr = ''.join(line).strip().split('\\t')\n",
        "\n",
        "                if len(gr) < 3: continue\n",
        "                if gr[2] not in ['trai', 'phai', 'len', 'xuong']:   continue\n",
        "\n",
        "\n",
        "                start_frame = int(float(gr[0]) * sr)\n",
        "                end_frame = int(float(gr[1]) * sr) + 1\n",
        "                lab = gr[2]\n",
        "                # trích chọn đặc trưng trên thang mel với các thông số mặc định sampling rate = 22050, window hann, frame_size = 2048, hop_size = 512 (SFT matrix n_frame x window_length)\n",
        "                # Dựa vào biến đổi Fast Fourier Transform trên từng frame\n",
        "                # trích chọn 13 đặc trưng MFCC từ Discrete Cosine Transform với các bộ lọc tam giác nối chân nhau từ spg: ma trận sau khi short time fourier transform trên segment.\n",
        "                # đặc trưng thứ 13 là trung bình năng lượng của 12 đặc trưng\n",
        "                mfccs = librosa.feature.mfcc(y=signal[start_frame:end_frame], n_mfcc=13, sr=sr)\n",
        "                # CMVN\n",
        "                mfccs = mfccs - np.mean(mfccs, axis=1).reshape((-1, 1))\n",
        "                # trích chọn 13 đặc trưng tiếp theo chính là đạo hàm của 12 đặc trưng mfccs cộng thêm 1 đặc trưng là trung bình năng lượng của 12 đặc trưng đó\n",
        "                delta_mfccs = librosa.feature.delta(mfccs, order=1)\n",
        "                \n",
        "                # tương tự nhưng là đạo hàm của 12 delta_mfccs và 1 trung bình năng lượng của tầng này\n",
        "                delta2_mfccs = librosa.feature.delta(mfccs, order=2)\n",
        "                mfccs_39 = np.concatenate((mfccs, delta_mfccs, delta2_mfccs))\n",
        "                target_list.append([mfccs_39, lab])"
      ],
      "metadata": {
        "id": "p1WuU8JEo4LG"
      },
      "execution_count": null,
      "outputs": []
    },
    {
      "cell_type": "code",
      "source": [
        "# read data without Silence label\n",
        "def read_data_from_drive(data_fill):\n",
        "    path = '/content/drive/My Drive/SpeechData/'\n",
        "    for fnum in range(1, 11):\n",
        "        for i in range(1, 101):\n",
        "            mfcc_lab(path + str(fnum) + '/c' + str(i), data_fill)"
      ],
      "metadata": {
        "id": "aRqGoNI8pe2v"
      },
      "execution_count": null,
      "outputs": []
    },
    {
      "cell_type": "code",
      "source": [
        "# Segment and label list of list\n",
        "# element: [ Signal, label]\n",
        "seg_lab = []\n",
        "read_data_from_drive(seg_lab)"
      ],
      "metadata": {
        "id": "XkoxHfsbsypZ"
      },
      "execution_count": null,
      "outputs": []
    },
    {
      "cell_type": "code",
      "source": [
        "len(seg_lab)"
      ],
      "metadata": {
        "id": "xNZXCENeUR5_",
        "colab": {
          "base_uri": "https://localhost:8080/"
        },
        "outputId": "f45ec81d-a013-4aa1-f3e6-ce81f225619f"
      },
      "execution_count": null,
      "outputs": [
        {
          "output_type": "execute_result",
          "data": {
            "text/plain": [
              "4811"
            ]
          },
          "metadata": {},
          "execution_count": 6
        }
      ]
    },
    {
      "cell_type": "markdown",
      "source": [
        "# **Dynamic Time Wrapping**"
      ],
      "metadata": {
        "id": "MCrIVd16ErA0"
      }
    },
    {
      "cell_type": "code",
      "source": [
        "def save_practical_sample(train_x, train_y):\n",
        "    cm = '/content/drive/My Drive/SpeechData/align_sample/'\n",
        "    for i in range(len(train_x)):\n",
        "        np.savetxt(cm + train_y[i] + '/smp_' + str(i) + '.txt', train_x[i])"
      ],
      "metadata": {
        "id": "NPVXjbfUSVfh"
      },
      "execution_count": null,
      "outputs": []
    },
    {
      "cell_type": "code",
      "source": [
        "def alignment_validation(train_x, train_y, test_x, test_y): \n",
        "    predict = ['' for x in range(len(test_y))]\n",
        "    rank_train = np.zeros((len(train_y)))\n",
        "    for i in range(len(test_x)):\n",
        "        dist_min = np.inf\n",
        "        min_idx = -1\n",
        "        for j in range(len(train_y)):\n",
        "            dist = dtw(test_x[i], train_x[j], dist=lambda test, train: np.linalg.norm(test - train, ord=1))[0]\n",
        "            if dist_min > dist: \n",
        "                dist_min = dist\n",
        "                min_idx = j\n",
        "                predict[i] = train_y[j]\n",
        "        if predict[i] == test_y[i]:\n",
        "            rank_train[min_idx] += 1\n",
        "        else:\n",
        "            rank_train[min_idx] -= 1.5\n",
        "    return predict, rank_train\n",
        "\n",
        "def prepare_datasets(dataset, rate_test=0.25):\n",
        "    random.shuffle(dataset)\n",
        "    N = int(len(dataset) * (1 - rate_test))\n",
        "    train_x = [dataset[i][0].T for i in range(N)]\n",
        "    train_y = [dataset[i][1] for i in range(N)]\n",
        "    test_x =  [dataset[i][0].T for i in range(N, len(dataset))]\n",
        "    test_y =  [dataset[i][1] for i in range(N, len(dataset))]\n",
        "    return train_x, train_y, test_x, test_y"
      ],
      "metadata": {
        "id": "9XgBnJIlEqkc"
      },
      "execution_count": null,
      "outputs": []
    },
    {
      "cell_type": "code",
      "source": [
        "def predict(samp, train_set_x, train_set_y):\n",
        "    threehold = 200 # for none class\n",
        "    dist_min = math.inf\n",
        "    res = 'none'\n",
        "    for j in range(len(train_set_y)):\n",
        "        dist = dtw(samp, train_set_x[j], dist=lambda test, train: np.linalg.norm(test - train, ord=1))[0]\n",
        "        print(j, dist)\n",
        "        if dist_min > dist: \n",
        "            dist_min = dist\n",
        "            res = train_set_y[j]\n",
        "    print('well define: ', dist_min)\n",
        "    return res"
      ],
      "metadata": {
        "id": "Bekg4dFecPOJ"
      },
      "execution_count": null,
      "outputs": []
    },
    {
      "cell_type": "code",
      "source": [
        "train_x, train_y, test_x, test_y = prepare_datasets(seg_lab)\n",
        "# train_x = best_train\n",
        "predicted, rank_train = alignment_validation(train_x, train_y, test_x, test_y)\n",
        "expected = test_y"
      ],
      "metadata": {
        "id": "9hAzAVO2qe67"
      },
      "execution_count": null,
      "outputs": []
    },
    {
      "cell_type": "code",
      "source": [
        "print(\"Classification report: \\n\\n%s\\n\" % (metrics.classification_report(expected, predicted)))\n",
        "mat = metrics.confusion_matrix(expected, predicted)\n",
        "# len, xuong, trai, phai\n",
        "label_names = list(set(expected))\n",
        "label_names = [x for x in label_names]\n",
        "plt.figure()\n",
        "plt.imshow(mat, interpolation='nearest', cmap='Reds')\n",
        "plt.title('normalized confussion matrix')\n",
        "plt.colorbar()\n",
        "plt.ylabel('Expected label')\n",
        "plt.xlabel('Predicted label')\n",
        "tick_marks = np.arange(len(label_names))\n",
        "plt.xticks(tick_marks, label_names, rotation=90)\n",
        "plt.yticks(tick_marks, label_names)\n",
        "plt.tight_layout()\n",
        "\n",
        "# accuracy của từng từ đơn\n",
        "accuracy = metrics.accuracy_score(expected, predicted)\n",
        "print('Accuracy classification score: {0:.2f}%'.format(100*accuracy))\n",
        "precision = metrics.precision_score(expected, predicted, average='weighted')\n",
        "print('Precision classification score: {0:.2f}%'.format(100*precision))"
      ],
      "metadata": {
        "id": "VkXLvjFzi21p",
        "colab": {
          "base_uri": "https://localhost:8080/",
          "height": 575
        },
        "outputId": "18aab4a8-8381-478d-8c94-5f1900e37162"
      },
      "execution_count": null,
      "outputs": [
        {
          "output_type": "stream",
          "name": "stdout",
          "text": [
            "Classification report: \n",
            "\n",
            "              precision    recall  f1-score   support\n",
            "\n",
            "         len       1.00      0.99      1.00       310\n",
            "        phai       0.98      0.97      0.97       278\n",
            "        trai       0.97      0.98      0.98       304\n",
            "       xuong       1.00      0.99      1.00       311\n",
            "\n",
            "    accuracy                           0.99      1203\n",
            "   macro avg       0.99      0.99      0.99      1203\n",
            "weighted avg       0.99      0.99      0.99      1203\n",
            "\n",
            "\n",
            "Accuracy classification score: 98.59%\n",
            "Precision classification score: 98.60%\n"
          ]
        },
        {
          "output_type": "display_data",
          "data": {
            "text/plain": [
              "<Figure size 432x288 with 2 Axes>"
            ],
            "image/png": "[encoded data removed]"
          },
          "metadata": {
            "needs_background": "light"
          }
        }
      ]
    },
    {
      "cell_type": "code",
      "source": [
        "best_train = []\n",
        "train_best_y = []\n",
        "# best of len\n",
        "def choose_n_best(sub_set, rank_train, n = 15):\n",
        "    n_best = []\n",
        "    ss, rk = sub_set.copy(), rank_train.copy()\n",
        "    for nb in range(n):\n",
        "        max_idx, max_rk = -1, -np.inf\n",
        "        for j in range(len(rk)):\n",
        "            if max_rk < rk[j]:\n",
        "                max_rk, max_idx = rk[j], j\n",
        "        n_best.append(ss[max_idx])\n",
        "        rk = [rk[i] for i in range(len(rk)) if i != max_idx]\n",
        "        ss = [ss[i] for i in range(len(ss)) if i != max_idx]\n",
        "    return n_best\n",
        "\n",
        "for lab in ['len', 'xuong', 'trai', 'phai']:\n",
        "    best_train.extend(choose_n_best([train_x[i] for i in range(len(train_x)) if train_y[i] == lab], [rank_train[i] for i in range(len(rank_train)) if train_y[i] == lab]))\n",
        "    train_best_y.extend([lab] * 15)\n",
        "\n",
        "save_practical_sample(best_train, train_best_y)"
      ],
      "metadata": {
        "id": "5UDrOEzN8Z7r"
      },
      "execution_count": null,
      "outputs": []
    },
    {
      "cell_type": "code",
      "source": [
        "prd = alignment_validation(best_train, train_best_y, test_x, test_y)[0]"
      ],
      "metadata": {
        "id": "uEBtGaGvvgiG"
      },
      "execution_count": null,
      "outputs": []
    },
    {
      "cell_type": "code",
      "source": [
        "save_practical_sample(best_train, train_best_y)"
      ],
      "metadata": {
        "id": "u7WWOsJf4IM2"
      },
      "execution_count": null,
      "outputs": []
    },
    {
      "cell_type": "code",
      "source": [
        "print(metrics.classification_report(prd, test_y))"
      ],
      "metadata": {
        "colab": {
          "base_uri": "https://localhost:8080/"
        },
        "id": "s0vDlVXwsnUY",
        "outputId": "f32b88c7-475a-4ba9-974d-91ebb2f16da2"
      },
      "execution_count": null,
      "outputs": [
        {
          "output_type": "stream",
          "name": "stdout",
          "text": [
            "              precision    recall  f1-score   support\n",
            "\n",
            "         len       1.00      0.95      0.97       324\n",
            "        phai       0.79      0.89      0.84       247\n",
            "        trai       0.90      0.85      0.88       321\n",
            "       xuong       0.98      0.98      0.98       311\n",
            "\n",
            "    accuracy                           0.92      1203\n",
            "   macro avg       0.92      0.92      0.92      1203\n",
            "weighted avg       0.93      0.92      0.92      1203\n",
            "\n"
          ]
        }
      ]
    },
    {
      "cell_type": "code",
      "source": [
        "mat = metrics.confusion_matrix(test_y, prd)\n",
        "# len, xuong, trai, phai\n",
        "label_names = list(set(expected))\n",
        "label_names = [x for x in label_names]\n",
        "plt.figure()\n",
        "plt.imshow(mat, interpolation='nearest', cmap='Reds')\n",
        "plt.title('normalized confussion matrix')\n",
        "plt.colorbar()\n",
        "plt.ylabel('Expected label')\n",
        "plt.xlabel('Predicted label')\n",
        "tick_marks = np.arange(len(label_names))\n",
        "plt.xticks(tick_marks, label_names, rotation=90)\n",
        "plt.yticks(tick_marks, label_names)\n",
        "plt.tight_layout()"
      ],
      "metadata": {
        "colab": {
          "base_uri": "https://localhost:8080/",
          "height": 297
        },
        "id": "UftfoHP-vQPt",
        "outputId": "88da3a00-23ef-4210-b715-60cd39ce2e2e"
      },
      "execution_count": null,
      "outputs": [
        {
          "output_type": "display_data",
          "data": {
            "text/plain": [
              "<Figure size 432x288 with 2 Axes>"
            ],
            "image/png": "[encoded data removed]"
          },
          "metadata": {
            "needs_background": "light"
          }
        }
      ]
    }
  ]
}